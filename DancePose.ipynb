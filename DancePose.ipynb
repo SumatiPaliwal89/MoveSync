{
 "cells": [
  {
   "cell_type": "code",
   "execution_count": 2,
   "id": "b45df56e-95f9-4af8-9f46-44a5536a8b76",
   "metadata": {},
   "outputs": [],
   "source": [
    "import csv\n",
    "import cv2\n",
    "import mediapipe as mp\n",
    "import numpy as np\n",
    "mp_drawing=mp.solutions.drawing_utils\n",
    "mp_pose=mp.solutions.pose"
   ]
  },
  {
   "cell_type": "markdown",
   "id": "6713fa49-1f97-49f0-951e-9e17c4cfec2d",
   "metadata": {},
   "source": [
    "### Capturing landmarks from video\n"
   ]
  },
  {
   "cell_type": "code",
   "execution_count": 36,
   "id": "699fce16-7b22-4bfc-a14e-fc95c5a22a69",
   "metadata": {},
   "outputs": [],
   "source": [
    "cap=cv2.VideoCapture(\"attempt.mp4\")\n",
    "with mp_pose.Pose(\n",
    "    static_image_mode=False,\n",
    "    model_complexity=1,\n",
    "    enable_segmentation=False,\n",
    "    min_detection_confidence=0.5,\n",
    "    min_tracking_confidence=0.5\n",
    ") as pose:\n",
    "    while cap.isOpened():\n",
    "        success,frame= cap.read()\n",
    "        if not success:\n",
    "          print(\"Ignoring empty camera frame.\")\n",
    "          break\n",
    "        frame = cv2.resize(frame, (720, 800))\n",
    "        #convert image to rgb\n",
    "        img=cv2.cvtColor(frame, cv2.COLOR_BGR2RGB)\n",
    "        img.flags.writeable= False\n",
    "        #detection\n",
    "        results=pose.process(img)\n",
    "    \n",
    "        #convert to bgr for opencv\n",
    "        img.flags.writeable = True\n",
    "        img = cv2.cvtColor(img, cv2.COLOR_RGB2BGR)\n",
    "        \n",
    "        # render detection\n",
    "        mp_drawing.draw_landmarks(img, results.pose_landmarks, mp_pose.POSE_CONNECTIONS,\n",
    "        mp_drawing.DrawingSpec(color=(56, 28, 74), thickness=2, circle_radius=2),\n",
    "        mp_drawing.DrawingSpec(color=(200, 87, 201), thickness=2, circle_radius=2))\n",
    "    \n",
    "    \n",
    "        cv2.imshow(\"Mediapipe Feed\", img)\n",
    "        if cv2.waitKey(10) & 0xFF == ord('q'):\n",
    "            break\n",
    "cap.release()\n",
    "cv2.destroyAllWindows()"
   ]
  },
  {
   "cell_type": "markdown",
   "id": "7ecf395f-52d1-43aa-9212-59b313a56ca0",
   "metadata": {},
   "source": [
    "### saving landmarks to csv"
   ]
  },
  {
   "cell_type": "code",
   "execution_count": 6,
   "id": "5aed9ad6-b9d5-46b4-af62-da7b3405dc2d",
   "metadata": {},
   "outputs": [
    {
     "name": "stdout",
     "output_type": "stream",
     "text": [
      "Ignoring empty camera frame.\n"
     ]
    }
   ],
   "source": [
    "#csv file\n",
    "f=open('attempt.csv',mode='w', newline='')\n",
    "csv_writer=csv.writer(f)\n",
    "\n",
    "header = []\n",
    "for i in range(33): \n",
    "    header += [f'x{i}', f'y{i}', f'z{i}', f'v{i}']\n",
    "csv_writer.writerow(header)\n",
    "\n",
    "cap=cv2.VideoCapture(\"reference.mp4\")\n",
    "with mp_pose.Pose(\n",
    "    static_image_mode=False,\n",
    "    model_complexity=1,\n",
    "    enable_segmentation=False,\n",
    "    min_detection_confidence=0.5,\n",
    "    min_tracking_confidence=0.5\n",
    ") as pose:\n",
    "    while cap.isOpened():\n",
    "        success,frame= cap.read()\n",
    "        if not success:\n",
    "          print(\"Ignoring empty camera frame.\")\n",
    "          break\n",
    "        frame = cv2.resize(frame, (720, 800))\n",
    "        #convert image to rgb\n",
    "        img=cv2.cvtColor(frame, cv2.COLOR_BGR2RGB)\n",
    "        img.flags.writeable= False\n",
    "        #detection\n",
    "        results=pose.process(img)\n",
    "    \n",
    "        #convert to bgr for opencv\n",
    "        img.flags.writeable = True\n",
    "        img = cv2.cvtColor(img, cv2.COLOR_RGB2BGR)\n",
    "        \n",
    "        # render detection\n",
    "        if results.pose_landmarks:\n",
    "            mp_drawing.draw_landmarks(img, results.pose_landmarks, mp_pose.POSE_CONNECTIONS,\n",
    "            mp_drawing.DrawingSpec(color=(56, 28, 74), thickness=2, circle_radius=2),\n",
    "            mp_drawing.DrawingSpec(color=(200, 87, 201), thickness=2, circle_radius=2))\n",
    "    \n",
    "            row=[]\n",
    "            for lm in results.pose_landmarks.landmark:\n",
    "                row.extend([lm.x, lm.y, lm.z, lm.visibility])\n",
    "            csv_writer.writerow(row)\n",
    "    \n",
    "        cv2.imshow(\"Mediapipe Feed\", img)\n",
    "        if cv2.waitKey(10) & 0xFF == ord('q'):\n",
    "            break\n",
    "\n",
    "cap.release()\n",
    "f.close()\n",
    "cv2.destroyAllWindows()"
   ]
  },
  {
   "cell_type": "markdown",
   "id": "a3ff9d52-b715-4253-8e29-9978d158ea05",
   "metadata": {},
   "source": [
    "## Approach 1 - Direct comparison using landmarks"
   ]
  },
  {
   "cell_type": "code",
   "execution_count": 2,
   "id": "a14d6b0d-f372-4c3a-849b-66438b5dc396",
   "metadata": {},
   "outputs": [
    {
     "ename": "FileNotFoundError",
     "evalue": "[Errno 2] No such file or directory: 'ref.csv'",
     "output_type": "error",
     "traceback": [
      "\u001b[31m---------------------------------------------------------------------------\u001b[39m",
      "\u001b[31mFileNotFoundError\u001b[39m                         Traceback (most recent call last)",
      "\u001b[36mCell\u001b[39m\u001b[36m \u001b[39m\u001b[32mIn[2]\u001b[39m\u001b[32m, line 21\u001b[39m\n\u001b[32m     18\u001b[39m     \u001b[38;5;28;01mreturn\u001b[39;00m np.mean(distances)\n\u001b[32m     20\u001b[39m \u001b[38;5;66;03m# extract both files\u001b[39;00m\n\u001b[32m---> \u001b[39m\u001b[32m21\u001b[39m ref_pose = \u001b[43mread_csv\u001b[49m\u001b[43m(\u001b[49m\u001b[33;43m'\u001b[39;49m\u001b[33;43mref.csv\u001b[39;49m\u001b[33;43m'\u001b[39;49m\u001b[43m)\u001b[49m\n\u001b[32m     22\u001b[39m user_pose = read_csv(\u001b[33m'\u001b[39m\u001b[33mattempt.csv\u001b[39m\u001b[33m'\u001b[39m)\n\u001b[32m     24\u001b[39m \u001b[38;5;66;03m# match frame lengths\u001b[39;00m\n",
      "\u001b[36mCell\u001b[39m\u001b[36m \u001b[39m\u001b[32mIn[2]\u001b[39m\u001b[32m, line 2\u001b[39m, in \u001b[36mread_csv\u001b[39m\u001b[34m(filename)\u001b[39m\n\u001b[32m      1\u001b[39m \u001b[38;5;28;01mdef\u001b[39;00m\u001b[38;5;250m \u001b[39m\u001b[34mread_csv\u001b[39m(filename):\n\u001b[32m----> \u001b[39m\u001b[32m2\u001b[39m     \u001b[38;5;28;01mwith\u001b[39;00m \u001b[38;5;28;43mopen\u001b[39;49m\u001b[43m(\u001b[49m\u001b[43mfilename\u001b[49m\u001b[43m,\u001b[49m\u001b[43m \u001b[49m\u001b[33;43m'\u001b[39;49m\u001b[33;43mr\u001b[39;49m\u001b[33;43m'\u001b[39;49m\u001b[43m)\u001b[49m \u001b[38;5;28;01mas\u001b[39;00m f:\n\u001b[32m      3\u001b[39m         reader = csv.reader(f)\n\u001b[32m      4\u001b[39m         \u001b[38;5;28mnext\u001b[39m(reader)  \u001b[38;5;66;03m# skip header\u001b[39;00m\n",
      "\u001b[36mFile \u001b[39m\u001b[32m~\\AppData\\Local\\Programs\\Python\\Python312\\Lib\\site-packages\\IPython\\core\\interactiveshell.py:343\u001b[39m, in \u001b[36m_modified_open\u001b[39m\u001b[34m(file, *args, **kwargs)\u001b[39m\n\u001b[32m    336\u001b[39m \u001b[38;5;28;01mif\u001b[39;00m file \u001b[38;5;129;01min\u001b[39;00m {\u001b[32m0\u001b[39m, \u001b[32m1\u001b[39m, \u001b[32m2\u001b[39m}:\n\u001b[32m    337\u001b[39m     \u001b[38;5;28;01mraise\u001b[39;00m \u001b[38;5;167;01mValueError\u001b[39;00m(\n\u001b[32m    338\u001b[39m         \u001b[33mf\u001b[39m\u001b[33m\"\u001b[39m\u001b[33mIPython won\u001b[39m\u001b[33m'\u001b[39m\u001b[33mt let you open fd=\u001b[39m\u001b[38;5;132;01m{\u001b[39;00mfile\u001b[38;5;132;01m}\u001b[39;00m\u001b[33m by default \u001b[39m\u001b[33m\"\u001b[39m\n\u001b[32m    339\u001b[39m         \u001b[33m\"\u001b[39m\u001b[33mas it is likely to crash IPython. If you know what you are doing, \u001b[39m\u001b[33m\"\u001b[39m\n\u001b[32m    340\u001b[39m         \u001b[33m\"\u001b[39m\u001b[33myou can use builtins\u001b[39m\u001b[33m'\u001b[39m\u001b[33m open.\u001b[39m\u001b[33m\"\u001b[39m\n\u001b[32m    341\u001b[39m     )\n\u001b[32m--> \u001b[39m\u001b[32m343\u001b[39m \u001b[38;5;28;01mreturn\u001b[39;00m \u001b[43mio_open\u001b[49m\u001b[43m(\u001b[49m\u001b[43mfile\u001b[49m\u001b[43m,\u001b[49m\u001b[43m \u001b[49m\u001b[43m*\u001b[49m\u001b[43margs\u001b[49m\u001b[43m,\u001b[49m\u001b[43m \u001b[49m\u001b[43m*\u001b[49m\u001b[43m*\u001b[49m\u001b[43mkwargs\u001b[49m\u001b[43m)\u001b[49m\n",
      "\u001b[31mFileNotFoundError\u001b[39m: [Errno 2] No such file or directory: 'ref.csv'"
     ]
    }
   ],
   "source": [
    "def read_csv(filename):\n",
    "    with open(filename, 'r') as f:\n",
    "        reader = csv.reader(f)\n",
    "        next(reader)  # skip header\n",
    "        data = []\n",
    "        for row in reader:\n",
    "            frame = []\n",
    "            for i in range(0, len(row), 4):\n",
    "                x, y, z, v = map(float, row[i:i+4])\n",
    "                frame.append([x, y, z])\n",
    "            data.append(frame)\n",
    "    return np.array(data)  \n",
    "\n",
    "def compare_frames(frame1, frame2):\n",
    "    frame1 = np.array(frame1)\n",
    "    frame2 = np.array(frame2)\n",
    "    distances = np.linalg.norm(frame1 - frame2, axis=1)  \n",
    "    return np.mean(distances)\n",
    "\n",
    "# extract both files\n",
    "ref_pose = read_csv('ref.csv')\n",
    "user_pose = read_csv('attempt.csv')\n",
    "\n",
    "# match frame lengths\n",
    "min_len = min(len(ref_pose), len(user_pose))\n",
    "ref_pose = ref_pose[:min_len]\n",
    "user_pose = user_pose[:min_len]\n",
    "\n",
    "# compare \n",
    "scores = []\n",
    "for f1, f2 in zip(ref_pose, user_pose):\n",
    "    score = compare_frames(f1, f2)\n",
    "    scores.append(score)\n",
    "average_score = np.mean(scores)\n",
    "\n",
    "# percentage score\n",
    "MAX_POSSIBLE_DISTANCE = np.sqrt(3)\n",
    "similarity_percentage = 100 * (1 - (average_score / MAX_POSSIBLE_DISTANCE))\n",
    "similarity_percentage = max(0, min(similarity_percentage, 100))\n",
    "\n",
    "print(f\"Similarity Score: {similarity_percentage:.2f}%\")\n",
    " \n"
   ]
  },
  {
   "cell_type": "code",
   "execution_count": null,
   "id": "2ea366d0-57e2-4a25-8e61-08c6ca33e227",
   "metadata": {},
   "outputs": [],
   "source": []
  },
  {
   "cell_type": "code",
   "execution_count": null,
   "id": "dfd8af13-887c-4957-9bd8-a980dd1507be",
   "metadata": {},
   "outputs": [],
   "source": []
  }
 ],
 "metadata": {
  "kernelspec": {
   "display_name": "Python 3 (ipykernel)",
   "language": "python",
   "name": "python3"
  },
  "language_info": {
   "codemirror_mode": {
    "name": "ipython",
    "version": 3
   },
   "file_extension": ".py",
   "mimetype": "text/x-python",
   "name": "python",
   "nbconvert_exporter": "python",
   "pygments_lexer": "ipython3",
   "version": "3.12.6"
  }
 },
 "nbformat": 4,
 "nbformat_minor": 5
}
